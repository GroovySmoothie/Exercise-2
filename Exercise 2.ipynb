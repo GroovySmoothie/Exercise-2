{
 "cells": [
  {
   "cell_type": "markdown",
   "metadata": {},
   "source": [
    "\n"
   ]
  },
  {
   "cell_type": "markdown",
   "metadata": {},
   "source": [
    "# Setup"
   ]
  },
  {
   "cell_type": "code",
   "execution_count": 193,
   "metadata": {},
   "outputs": [],
   "source": [
    "import numpy as np\n",
    "import pandas as pd\n",
    "import os\n",
    "import math\n",
    "from pathlib import Path\n",
    "from grepfunc import grep\n",
    "\n",
    "# Specify git executable file for GitPython in Jupyter Notebook (In IDE, it can still work without this line.)\n",
    "os.environ[\"GIT_PYTHON_GIT_EXECUTABLE\"] = \"/usr/bin/git\"\n",
    "\n",
    "import git\n",
    "from git import RemoteProgress\n",
    "\n",
    "from git import Repo\n",
    "import matplotlib.pyplot as plt\n",
    "import seaborn as sns\n",
    "%matplotlib inline"
   ]
  },
  {
   "cell_type": "code",
   "execution_count": 4,
   "metadata": {},
   "outputs": [],
   "source": [
    "class Progress(RemoteProgress):\n",
    "    def update(self, op_code, cur_count, max_count=None, message=''):\n",
    "        print(self._cur_line)"
   ]
  },
  {
   "cell_type": "code",
   "execution_count": 263,
   "metadata": {},
   "outputs": [
    {
     "name": "stdout",
     "output_type": "stream",
     "text": [
      "Receiving objects:   0% (1/772963)\n",
      "Receiving objects:   0% (2110/772963), 292.01 KiB | 544.00 KiB/s\n",
      "Receiving objects:   0% (4693/772963), 1.29 MiB | 609.00 KiB/s\n",
      "Receiving objects:   0% (7688/772963), 1.67 MiB | 641.00 KiB/s\n",
      "Receiving objects:   1% (7730/772963), 1.67 MiB | 641.00 KiB/s\n",
      "Receiving objects:   1% (12370/772963), 2.38 MiB | 661.00 KiB/s\n",
      "Receiving objects:   2% (15460/772963), 3.56 MiB | 777.00 KiB/s\n",
      "Receiving objects:   2% (16389/772963), 3.56 MiB | 777.00 KiB/s\n",
      "Receiving objects:   2% (19836/772963), 4.73 MiB | 902.00 KiB/s\n",
      "Receiving objects:   3% (23189/772963), 5.69 MiB | 995.00 KiB/s\n",
      "Receiving objects:   3% (24642/772963), 5.69 MiB | 995.00 KiB/s\n",
      "Receiving objects:   3% (29218/772963), 6.87 MiB | 1.09 MiB/s\n",
      "Receiving objects:   4% (30919/772963), 7.46 MiB | 1.13 MiB/s\n",
      "Receiving objects:   4% (31894/772963), 8.04 MiB | 1.12 MiB/s\n",
      "Receiving objects:   4% (33758/772963), 9.22 MiB | 1.12 MiB/s\n",
      "Receiving objects:   4% (34876/772963), 10.99 MiB | 1.17 MiB/s\n",
      "Receiving objects:   4% (35923/772963), 11.57 MiB | 1.17 MiB/s\n",
      "Receiving objects:   4% (37907/772963), 12.68 MiB | 1.15 MiB/s\n",
      "Receiving objects:   5% (38649/772963), 13.27 MiB | 1.15 MiB/s\n",
      "Receiving objects:   5% (39054/772963), 13.63 MiB | 1.09 MiB/s\n",
      "Receiving objects:   5% (40224/772963), 14.36 MiB | 1019.00 KiB/s\n",
      "Receiving objects:   5% (41224/772963), 15.13 MiB | 907.00 KiB/s\n",
      "Receiving objects:   5% (42165/772963), 15.76 MiB | 797.00 KiB/s\n",
      "Receiving objects:   5% (43295/772963), 16.44 MiB | 693.00 KiB/s\n",
      "Receiving objects:   5% (44094/772963), 17.29 MiB | 722.00 KiB/s\n",
      "Receiving objects:   5% (46237/772963), 18.46 MiB | 845.00 KiB/s\n",
      "Receiving objects:   6% (46378/772963), 18.46 MiB | 845.00 KiB/s\n",
      "Receiving objects:   6% (48522/772963), 19.65 MiB | 940.00 KiB/s\n",
      "Receiving objects:   6% (50757/772963), 20.83 MiB | 1.06 MiB/s\n",
      "Receiving objects:   7% (54108/772963), 21.42 MiB | 1.10 MiB/s\n",
      "Receiving objects:   7% (54259/772963), 22.00 MiB | 1.15 MiB/s\n",
      "Receiving objects:   7% (57997/772963), 23.18 MiB | 1.17 MiB/s\n",
      "Receiving objects:   8% (61838/772963), 23.76 MiB | 1.17 MiB/s\n",
      "Receiving objects:   8% (62188/772963), 24.35 MiB | 1.17 MiB/s\n",
      "Receiving objects:   8% (67830/772963), 25.53 MiB | 1.17 MiB/s\n",
      "Receiving objects:   9% (69567/772963), 25.53 MiB | 1.17 MiB/s\n",
      "Receiving objects:   9% (71602/772963), 26.60 MiB | 1.10 MiB/s\n",
      "Receiving objects:   9% (74455/772963), 27.29 MiB | 1.12 MiB/s\n",
      "Receiving objects:   9% (76414/772963), 27.87 MiB | 980.00 KiB/s\n",
      "Receiving objects:  10% (77297/772963), 28.03 MiB | 886.00 KiB/s\n",
      "Receiving objects:  10% (77750/772963), 28.23 MiB | 805.00 KiB/s\n",
      "Receiving objects:  10% (78760/772963), 28.50 MiB | 610.00 KiB/s\n",
      "Receiving objects:  10% (79768/772963), 28.78 MiB | 462.00 KiB/s\n",
      "Receiving objects:  10% (81390/772963), 28.97 MiB | 346.00 KiB/s\n",
      "Receiving objects:  10% (82784/772963), 29.40 MiB | 325.00 KiB/s\n",
      "Receiving objects:  10% (84601/772963), 29.93 MiB | 362.00 KiB/s\n",
      "Receiving objects:  11% (85026/772963), 29.93 MiB | 362.00 KiB/s\n",
      "Receiving objects:  11% (86128/772963), 30.46 MiB | 422.00 KiB/s\n",
      "Receiving objects:  11% (87082/772963), 30.70 MiB | 414.00 KiB/s\n",
      "Receiving objects:  11% (87844/772963), 30.86 MiB | 355.00 KiB/s\n",
      "Receiving objects:  11% (89339/772963), 30.95 MiB | 325.00 KiB/s\n",
      "Receiving objects:  11% (90750/772963), 31.45 MiB | 319.00 KiB/s\n",
      "Receiving objects:  11% (92250/772963), 31.98 MiB | 317.00 KiB/s\n",
      "Receiving objects:  12% (92756/772963), 32.43 MiB | 388.00 KiB/s\n",
      "Receiving objects:  12% (94593/772963), 32.96 MiB | 476.00 KiB/s\n",
      "Receiving objects:  12% (96999/772963), 33.96 MiB | 678.00 KiB/s\n",
      "Receiving objects:  13% (100486/772963), 34.25 MiB | 732.00 KiB/s\n",
      "Receiving objects:  13% (101510/772963), 34.81 MiB | 816.00 KiB/s\n",
      "Receiving objects:  13% (105731/772963), 35.65 MiB | 896.00 KiB/s\n",
      "Receiving objects:  14% (108215/772963), 35.95 MiB | 862.00 KiB/s\n",
      "Receiving objects:  14% (108816/772963), 36.14 MiB | 803.00 KiB/s\n",
      "Receiving objects:  14% (111814/772963), 36.67 MiB | 674.00 KiB/s\n",
      "Receiving objects:  14% (114433/772963), 37.18 MiB | 626.00 KiB/s\n",
      "Receiving objects:  14% (115669/772963), 37.50 MiB | 475.00 KiB/s\n",
      "Receiving objects:  15% (115945/772963), 37.50 MiB | 475.00 KiB/s\n",
      "Receiving objects:  15% (117249/772963), 37.71 MiB | 434.00 KiB/s\n",
      "Receiving objects:  15% (120893/772963), 38.38 MiB | 486.00 KiB/s\n",
      "Receiving objects:  16% (123675/772963), 38.69 MiB | 499.00 KiB/s\n",
      "Receiving objects:  16% (125655/772963), 39.16 MiB | 546.00 KiB/s\n",
      "Receiving objects:  16% (129896/772963), 40.24 MiB | 676.00 KiB/s\n",
      "Receiving objects:  16% (131205/772963), 41.21 MiB | 825.00 KiB/s\n",
      "Receiving objects:  17% (131404/772963), 41.21 MiB | 825.00 KiB/s\n",
      "Receiving objects:  17% (137578/772963), 42.18 MiB | 933.00 KiB/s\n",
      "Receiving objects:  18% (139134/772963), 42.79 MiB | 992.00 KiB/s\n",
      "Receiving objects:  18% (141485/772963), 43.39 MiB | 1.03 MiB/s\n",
      "Receiving objects:  18% (144098/772963), 44.35 MiB | 1.03 MiB/s\n",
      "Receiving objects:  19% (146863/772963), 45.32 MiB | 1002.00 KiB/s\n",
      "Receiving objects:  19% (147359/772963), 45.32 MiB | 1002.00 KiB/s\n",
      "Receiving objects:  19% (153425/772963), 46.22 MiB | 1015.00 KiB/s\n",
      "Receiving objects:  20% (154593/772963), 46.22 MiB | 1015.00 KiB/s\n",
      "Receiving objects:  20% (161819/772963), 47.40 MiB | 1020.00 KiB/s\n",
      "Receiving objects:  21% (162323/772963), 47.40 MiB | 1020.00 KiB/s\n",
      "Receiving objects:  21% (168619/772963), 48.03 MiB | 886.00 KiB/s\n",
      "Receiving objects:  22% (170052/772963), 48.03 MiB | 886.00 KiB/s\n",
      "Receiving objects:  22% (173500/772963), 48.64 MiB | 846.00 KiB/s\n",
      "Receiving objects:  22% (176496/772963), 49.20 MiB | 738.00 KiB/s\n",
      "Receiving objects:  23% (177782/772963), 49.20 MiB | 738.00 KiB/s\n",
      "Receiving objects:  23% (179116/772963), 49.68 MiB | 647.00 KiB/s\n",
      "Receiving objects:  23% (181186/772963), 50.29 MiB | 580.00 KiB/s\n",
      "Receiving objects:  23% (183720/772963), 50.59 MiB | 560.00 KiB/s\n",
      "Receiving objects:  24% (185512/772963), 51.03 MiB | 523.00 KiB/s\n",
      "Receiving objects:  24% (185746/772963), 51.03 MiB | 523.00 KiB/s\n",
      "Receiving objects:  24% (188688/772963), 51.53 MiB | 506.00 KiB/s\n",
      "Receiving objects:  24% (190893/772963), 52.01 MiB | 487.00 KiB/s\n",
      "Receiving objects:  25% (193241/772963), 52.50 MiB | 458.00 KiB/s\n",
      "Receiving objects:  25% (194526/772963), 52.50 MiB | 458.00 KiB/s\n",
      "Receiving objects:  25% (199286/772963), 53.14 MiB | 501.00 KiB/s\n",
      "Receiving objects:  26% (200971/772963), 53.14 MiB | 501.00 KiB/s\n",
      "Receiving objects:  26% (207985/772963), 54.28 MiB | 639.00 KiB/s\n",
      "Receiving objects:  27% (208701/772963), 54.28 MiB | 639.00 KiB/s\n",
      "Receiving objects:  28% (216430/772963), 54.88 MiB | 718.00 KiB/s\n",
      "Receiving objects:  28% (218999/772963), 55.46 MiB | 793.00 KiB/s\n",
      "Receiving objects:  29% (224160/772963), 56.07 MiB | 904.00 KiB/s\n",
      "Receiving objects:  29% (225538/772963), 56.37 MiB | 909.00 KiB/s\n",
      "Receiving objects:  30% (231889/772963), 56.96 MiB | 998.00 KiB/s\n",
      "Receiving objects:  30% (235156/772963), 57.45 MiB | 1.00 MiB/s\n",
      "Receiving objects:  31% (239619/772963), 58.04 MiB | 1.08 MiB/s\n",
      "Receiving objects:  31% (240970/772963), 58.49 MiB | 1.05 MiB/s\n",
      "Receiving objects:  31% (244329/772963), 59.30 MiB | 993.00 KiB/s\n",
      "Receiving objects:  32% (247349/772963), 59.89 MiB | 996.00 KiB/s\n",
      "Receiving objects:  32% (251722/772963), 60.42 MiB | 979.00 KiB/s\n",
      "Receiving objects:  33% (255078/772963), 61.00 MiB | 1.02 MiB/s\n",
      "Receiving objects:  33% (258447/772963), 61.54 MiB | 1.00 MiB/s\n",
      "Receiving objects:  34% (262808/772963), 61.88 MiB | 990.00 KiB/s\n",
      "Receiving objects:  34% (263954/772963), 62.25 MiB | 934.00 KiB/s\n",
      "Receiving objects:  34% (268277/772963), 62.58 MiB | 906.00 KiB/s\n",
      "Receiving objects:  35% (270538/772963), 62.84 MiB | 911.00 KiB/s\n",
      "Receiving objects:  35% (272469/772963), 63.16 MiB | 849.00 KiB/s\n",
      "Receiving objects:  35% (276341/772963), 63.60 MiB | 693.00 KiB/s\n",
      "Receiving objects:  36% (278267/772963), 64.14 MiB | 568.00 KiB/s\n",
      "Receiving objects:  36% (278818/772963), 64.14 MiB | 568.00 KiB/s\n",
      "Receiving objects:  36% (282409/772963), 64.71 MiB | 540.00 KiB/s\n",
      "Receiving objects:  37% (285997/772963), 65.27 MiB | 594.00 KiB/s\n",
      "Receiving objects:  37% (287953/772963), 65.86 MiB | 669.00 KiB/s\n",
      "Receiving objects:  38% (293726/772963), 66.47 MiB | 737.00 KiB/s\n",
      "Receiving objects:  38% (295294/772963), 66.88 MiB | 793.00 KiB/s\n",
      "Receiving objects:  39% (301456/772963), 67.71 MiB | 861.00 KiB/s\n"
     ]
    },
    {
     "name": "stdout",
     "output_type": "stream",
     "text": [
      "Receiving objects:  39% (304155/772963), 67.71 MiB | 861.00 KiB/s\n",
      "Receiving objects:  40% (309186/772963), 68.32 MiB | 938.00 KiB/s\n",
      "Receiving objects:  40% (314534/772963), 68.92 MiB | 1012.00 KiB/s\n",
      "Receiving objects:  41% (316915/772963), 68.92 MiB | 1012.00 KiB/s\n",
      "Receiving objects:  42% (324645/772963), 70.11 MiB | 1.06 MiB/s\n",
      "Receiving objects:  42% (326067/772963), 70.11 MiB | 1.06 MiB/s\n",
      "Receiving objects:  43% (332375/772963), 70.71 MiB | 1.06 MiB/s\n",
      "Receiving objects:  43% (339504/772963), 71.32 MiB | 1.06 MiB/s\n",
      "Receiving objects:  44% (340104/772963), 71.32 MiB | 1.06 MiB/s\n",
      "Receiving objects:  45% (347834/772963), 71.76 MiB | 1.06 MiB/s\n",
      "Receiving objects:  45% (352352/772963), 72.53 MiB | 1.17 MiB/s\n",
      "Receiving objects:  46% (355563/772963), 73.32 MiB | 1.10 MiB/s\n",
      "Receiving objects:  46% (356121/772963), 73.32 MiB | 1.10 MiB/s\n",
      "Receiving objects:  47% (363293/772963), 73.87 MiB | 1.08 MiB/s\n",
      "Receiving objects:  47% (366518/772963), 74.48 MiB | 1.09 MiB/s\n",
      "Receiving objects:  48% (371023/772963), 75.51 MiB | 1.04 MiB/s\n",
      "Receiving objects:  48% (371186/772963), 75.51 MiB | 1.04 MiB/s\n",
      "Receiving objects:  48% (374322/772963), 76.26 MiB | 969.00 KiB/s\n",
      "Receiving objects:  49% (378752/772963), 76.62 MiB | 855.00 KiB/s\n",
      "Receiving objects:  49% (379607/772963), 76.62 MiB | 855.00 KiB/s\n",
      "Receiving objects:  49% (384073/772963), 77.03 MiB | 771.00 KiB/s\n",
      "Receiving objects:  50% (386482/772963), 77.28 MiB | 707.00 KiB/s\n",
      "Receiving objects:  50% (389643/772963), 77.53 MiB | 630.00 KiB/s\n",
      "Receiving objects:  51% (394212/772963), 78.00 MiB | 518.00 KiB/s\n",
      "Receiving objects:  51% (395041/772963), 78.00 MiB | 518.00 KiB/s\n",
      "Receiving objects:  51% (400778/772963), 78.45 MiB | 467.00 KiB/s\n",
      "Receiving objects:  52% (401941/772963), 78.45 MiB | 467.00 KiB/s\n",
      "Receiving objects:  53% (409671/772963), 79.42 MiB | 579.00 KiB/s\n",
      "Receiving objects:  53% (410864/772963), 79.42 MiB | 579.00 KiB/s\n",
      "Receiving objects:  53% (416645/772963), 80.21 MiB | 647.00 KiB/s\n",
      "Receiving objects:  54% (417401/772963), 80.21 MiB | 647.00 KiB/s\n",
      "Receiving objects:  55% (425130/772963), 80.80 MiB | 727.00 KiB/s\n",
      "Receiving objects:  55% (426057/772963), 81.41 MiB | 809.00 KiB/s\n",
      "Receiving objects:  56% (432860/772963), 82.02 MiB | 894.00 KiB/s\n",
      "Receiving objects:  56% (434732/772963), 82.63 MiB | 983.00 KiB/s\n",
      "Receiving objects:  57% (440589/772963), 83.21 MiB | 1.01 MiB/s\n",
      "Receiving objects:  57% (442127/772963), 83.21 MiB | 1.01 MiB/s\n",
      "Receiving objects:  58% (448319/772963), 84.46 MiB | 1.07 MiB/s\n",
      "Receiving objects:  58% (450240/772963), 84.46 MiB | 1.07 MiB/s\n",
      "Receiving objects:  59% (456049/772963), 85.68 MiB | 1.16 MiB/s\n",
      "Receiving objects:  59% (458728/772963), 86.04 MiB | 1.10 MiB/s\n",
      "Receiving objects:  60% (463778/772963), 86.49 MiB | 1.06 MiB/s\n",
      "Receiving objects:  60% (466713/772963), 86.49 MiB | 1.06 MiB/s\n",
      "Receiving objects:  61% (471508/772963), 87.10 MiB | 1.06 MiB/s\n",
      "Receiving objects:  62% (479238/772963), 87.71 MiB | 1.06 MiB/s\n",
      "Receiving objects:  62% (484707/772963), 87.71 MiB | 1.06 MiB/s\n",
      "Receiving objects:  63% (486967/772963), 87.71 MiB | 1.06 MiB/s\n",
      "Receiving objects:  64% (494697/772963), 88.32 MiB | 1.10 MiB/s\n",
      "Receiving objects:  65% (502426/772963), 88.93 MiB | 1.09 MiB/s\n",
      "Receiving objects:  65% (504336/772963), 88.93 MiB | 1.09 MiB/s\n",
      "Receiving objects:  66% (510156/772963), 89.50 MiB | 1.06 MiB/s\n",
      "Receiving objects:  66% (513968/772963), 89.88 MiB | 1.01 MiB/s\n",
      "Receiving objects:  67% (517886/772963), 90.21 MiB | 976.00 KiB/s\n",
      "Receiving objects:  67% (519360/772963), 90.42 MiB | 949.00 KiB/s\n",
      "Receiving objects:  68% (525615/772963), 90.71 MiB | 914.00 KiB/s\n",
      "Receiving objects:  68% (528506/772963), 90.97 MiB | 840.00 KiB/s\n",
      "Receiving objects:  69% (533345/772963), 91.29 MiB | 774.00 KiB/s\n",
      "Receiving objects:  69% (537097/772963), 91.59 MiB | 707.00 KiB/s\n",
      "Receiving objects:  70% (541075/772963), 91.87 MiB | 636.00 KiB/s\n",
      "Receiving objects:  70% (544429/772963), 92.15 MiB | 587.00 KiB/s\n",
      "Receiving objects:  71% (548804/772963), 92.34 MiB | 543.00 KiB/s\n",
      "Receiving objects:  71% (551807/772963), 92.64 MiB | 533.00 KiB/s\n",
      "Receiving objects:  72% (556534/772963), 92.64 MiB | 533.00 KiB/s\n",
      "Receiving objects:  73% (564263/772963), 93.06 MiB | 584.00 KiB/s\n",
      "Receiving objects:  73% (566739/772963), 93.59 MiB | 635.00 KiB/s\n",
      "Receiving objects:  74% (571993/772963), 93.86 MiB | 635.00 KiB/s\n",
      "Receiving objects:  74% (578191/772963), 93.86 MiB | 635.00 KiB/s\n",
      "Receiving objects:  75% (579723/772963), 94.37 MiB | 680.00 KiB/s\n",
      "Receiving objects:  76% (587452/772963), 94.37 MiB | 680.00 KiB/s\n",
      "Receiving objects:  77% (595182/772963), 94.98 MiB | 749.00 KiB/s\n",
      "Receiving objects:  77% (595971/772963), 94.98 MiB | 749.00 KiB/s\n",
      "Receiving objects:  78% (602912/772963), 95.59 MiB | 822.00 KiB/s\n",
      "Receiving objects:  79% (610641/772963), 96.20 MiB | 894.00 KiB/s\n",
      "Receiving objects:  79% (614743/772963), 96.20 MiB | 894.00 KiB/s\n",
      "Receiving objects:  80% (618371/772963), 96.81 MiB | 992.00 KiB/s\n",
      "Receiving objects:  81% (626101/772963), 97.42 MiB | 1.04 MiB/s\n",
      "Receiving objects:  81% (633429/772963), 97.42 MiB | 1.04 MiB/s\n",
      "Receiving objects:  82% (633830/772963), 97.42 MiB | 1.04 MiB/s\n",
      "Receiving objects:  83% (641560/772963), 98.03 MiB | 1.08 MiB/s\n",
      "Receiving objects:  83% (648731/772963), 98.61 MiB | 1.10 MiB/s\n",
      "Receiving objects:  84% (649289/772963), 98.61 MiB | 1.10 MiB/s\n",
      "Receiving objects:  85% (657019/772963), 99.29 MiB | 1.08 MiB/s\n",
      "Receiving objects:  85% (661806/772963), 99.29 MiB | 1.08 MiB/s\n",
      "Receiving objects:  86% (664749/772963), 99.89 MiB | 1.08 MiB/s\n",
      "Receiving objects:  87% (672478/772963), 99.89 MiB | 1.08 MiB/s\n",
      "Receiving objects:  87% (680187/772963), 100.48 MiB | 1.07 MiB/s\n",
      "Receiving objects:  88% (680208/772963), 100.48 MiB | 1.07 MiB/s\n",
      "Receiving objects:  89% (687938/772963), 101.08 MiB | 1.07 MiB/s\n",
      "Receiving objects:  90% (695667/772963), 101.69 MiB | 1.08 MiB/s\n",
      "Receiving objects:  90% (698145/772963), 101.69 MiB | 1.08 MiB/s\n",
      "Receiving objects:  91% (703397/772963), 102.13 MiB | 1.04 MiB/s\n",
      "Receiving objects:  92% (711126/772963), 102.74 MiB | 1.04 MiB/s\n",
      "Receiving objects:  92% (717730/772963), 102.74 MiB | 1.04 MiB/s\n",
      "Receiving objects:  93% (718856/772963), 102.74 MiB | 1.04 MiB/s\n",
      "Receiving objects:  94% (726586/772963), 103.35 MiB | 1.04 MiB/s\n",
      "Receiving objects:  94% (729825/772963), 103.74 MiB | 1.06 MiB/s\n",
      "Receiving objects:  95% (734315/772963), 104.08 MiB | 942.00 KiB/s\n",
      "Receiving objects:  95% (734848/772963), 104.08 MiB | 942.00 KiB/s\n",
      "Receiving objects:  95% (741283/772963), 104.47 MiB | 751.00 KiB/s\n",
      "Receiving objects:  96% (742045/772963), 104.47 MiB | 751.00 KiB/s\n",
      "Receiving objects:  97% (749775/772963), 104.99 MiB | 631.00 KiB/s\n",
      "Receiving objects:  97% (750722/772963), 104.99 MiB | 631.00 KiB/s\n",
      "Receiving objects:  97% (756190/772963), 105.97 MiB | 579.00 KiB/s\n",
      "Receiving objects:  98% (757504/772963), 105.97 MiB | 579.00 KiB/s\n",
      "Receiving objects:  98% (763263/772963), 107.14 MiB | 705.00 KiB/s\n",
      "Receiving objects:  99% (765234/772963), 107.59 MiB | 774.00 KiB/s\n",
      "Receiving objects:  99% (767205/772963), 107.98 MiB | 825.00 KiB/s\n",
      "Receiving objects: 100% (772963/772963), 109.16 MiB | 1006.00 KiB/s\n",
      "Receiving objects: 100% (772963/772963), 109.17 MiB | 829.00 KiB/s, done.\n",
      "Resolving deltas:   0% (0/319599)\n",
      "Resolving deltas:   1% (3197/319599)\n",
      "Resolving deltas:   2% (6431/319599)\n",
      "Resolving deltas:   3% (9604/319599)\n",
      "Resolving deltas:   4% (12784/319599)\n",
      "Resolving deltas:   5% (15980/319599)\n",
      "Resolving deltas:   6% (19177/319599)\n",
      "Resolving deltas:   7% (22391/319599)\n",
      "Resolving deltas:   8% (25587/319599)\n",
      "Resolving deltas:   9% (28783/319599)\n",
      "Resolving deltas:  10% (33347/319599)\n",
      "Resolving deltas:  12% (39421/319599)\n",
      "Resolving deltas:  13% (41570/319599)\n",
      "Resolving deltas:  14% (44748/319599)\n",
      "Resolving deltas:  15% (47951/319599)\n",
      "Resolving deltas:  16% (51154/319599)\n",
      "Resolving deltas:  17% (54334/319599)\n",
      "Resolving deltas:  18% (57541/319599)\n",
      "Resolving deltas:  18% (59411/319599)\n",
      "Resolving deltas:  19% (60758/319599)\n",
      "Resolving deltas:  20% (63922/319599)\n",
      "Resolving deltas:  21% (67126/319599)\n",
      "Resolving deltas:  22% (70328/319599)\n",
      "Resolving deltas:  23% (73577/319599)\n",
      "Resolving deltas:  24% (76704/319599)\n",
      "Resolving deltas:  25% (79902/319599)\n",
      "Resolving deltas:  26% (83106/319599)\n",
      "Resolving deltas:  27% (86321/319599)\n",
      "Resolving deltas:  28% (89685/319599)\n",
      "Resolving deltas:  29% (92762/319599)\n"
     ]
    },
    {
     "name": "stdout",
     "output_type": "stream",
     "text": [
      "Resolving deltas:  30% (95891/319599)\n",
      "Resolving deltas:  31% (99093/319599)\n",
      "Resolving deltas:  32% (102360/319599)\n",
      "Resolving deltas:  33% (105807/319599)\n",
      "Resolving deltas:  34% (108713/319599)\n",
      "Resolving deltas:  34% (111675/319599)\n",
      "Resolving deltas:  35% (111880/319599)\n",
      "Resolving deltas:  36% (115065/319599)\n",
      "Resolving deltas:  37% (118254/319599)\n",
      "Resolving deltas:  38% (121450/319599)\n",
      "Resolving deltas:  39% (124644/319599)\n",
      "Resolving deltas:  40% (128205/319599)\n",
      "Resolving deltas:  41% (131336/319599)\n",
      "Resolving deltas:  42% (134285/319599)\n",
      "Resolving deltas:  43% (137812/319599)\n",
      "Resolving deltas:  44% (140643/319599)\n",
      "Resolving deltas:  45% (144157/319599)\n",
      "Resolving deltas:  46% (147018/319599)\n",
      "Resolving deltas:  47% (150283/319599)\n",
      "Resolving deltas:  48% (153426/319599)\n",
      "Resolving deltas:  49% (156610/319599)\n",
      "Resolving deltas:  50% (159800/319599)\n",
      "Resolving deltas:  51% (163002/319599)\n",
      "Resolving deltas:  51% (164016/319599)\n",
      "Resolving deltas:  52% (166198/319599)\n",
      "Resolving deltas:  53% (169394/319599)\n",
      "Resolving deltas:  54% (172594/319599)\n",
      "Resolving deltas:  55% (175882/319599)\n",
      "Resolving deltas:  56% (179023/319599)\n",
      "Resolving deltas:  57% (182172/319599)\n",
      "Resolving deltas:  58% (185376/319599)\n",
      "Resolving deltas:  59% (188616/319599)\n",
      "Resolving deltas:  60% (191762/319599)\n",
      "Resolving deltas:  61% (194956/319599)\n",
      "Resolving deltas:  62% (198172/319599)\n",
      "Resolving deltas:  63% (201348/319599)\n",
      "Resolving deltas:  64% (204555/319599)\n",
      "Resolving deltas:  65% (207740/319599)\n",
      "Resolving deltas:  66% (210943/319599)\n",
      "Resolving deltas:  67% (214166/319599)\n",
      "Resolving deltas:  68% (217372/319599)\n",
      "Resolving deltas:  69% (220529/319599)\n",
      "Resolving deltas:  70% (223789/319599)\n",
      "Resolving deltas:  71% (226931/319599)\n",
      "Resolving deltas:  72% (230122/319599)\n",
      "Resolving deltas:  73% (233312/319599)\n",
      "Resolving deltas:  74% (236516/319599)\n",
      "Resolving deltas:  75% (239700/319599)\n",
      "Resolving deltas:  76% (242912/319599)\n",
      "Resolving deltas:  77% (246104/319599)\n",
      "Resolving deltas:  78% (249288/319599)\n",
      "Resolving deltas:  78% (250302/319599)\n",
      "Resolving deltas:  79% (252485/319599)\n",
      "Resolving deltas:  80% (255680/319599)\n",
      "Resolving deltas:  81% (258897/319599)\n",
      "Resolving deltas:  82% (262110/319599)\n",
      "Resolving deltas:  83% (265268/319599)\n",
      "Resolving deltas:  84% (268473/319599)\n",
      "Resolving deltas:  85% (271665/319599)\n",
      "Resolving deltas:  86% (274886/319599)\n",
      "Resolving deltas:  87% (278083/319599)\n",
      "Resolving deltas:  88% (281248/319599)\n",
      "Resolving deltas:  89% (284457/319599)\n",
      "Resolving deltas:  90% (287642/319599)\n",
      "Resolving deltas:  91% (290836/319599)\n",
      "Resolving deltas:  92% (294032/319599)\n",
      "Resolving deltas:  93% (297238/319599)\n",
      "Resolving deltas:  94% (300424/319599)\n",
      "Resolving deltas:  95% (303677/319599)\n",
      "Resolving deltas:  96% (306819/319599)\n",
      "Resolving deltas:  97% (310012/319599)\n",
      "Resolving deltas:  98% (313230/319599)\n",
      "Resolving deltas:  99% (316404/319599)\n",
      "Resolving deltas: 100% (319599/319599)\n",
      "Resolving deltas: 100% (319599/319599), done.\n"
     ]
    },
    {
     "data": {
      "text/plain": [
       "<git.Repo \"/home/oscar/a1704482/2019/sse/repo/cxf/.git\">"
      ]
     },
     "execution_count": 263,
     "metadata": {},
     "output_type": "execute_result"
    }
   ],
   "source": [
    "remote_link = \"https://github.com/apache/cxf\"\n",
    "local_link = \"repo/cxf\"\n",
    "# Uncomment to clone\n",
    "Repo.clone_from(remote_link, local_link, progress=Progress())"
   ]
  },
  {
   "cell_type": "code",
   "execution_count": 264,
   "metadata": {},
   "outputs": [],
   "source": [
    "repo = Repo(local_link)\n",
    "fixing_commit = \"d9e2a6e7\""
   ]
  },
  {
   "cell_type": "markdown",
   "metadata": {},
   "source": [
    "# Begin"
   ]
  },
  {
   "cell_type": "code",
   "execution_count": 265,
   "metadata": {},
   "outputs": [
    {
     "name": "stdout",
     "output_type": "stream",
     "text": [
      "Letting CXF StaxUtils prepare XMLStreamReader for Atom reads\n"
     ]
    }
   ],
   "source": [
    "#Gets the message and title of the fixing commit\n",
    "show_data = repo.git.show(\"--pretty=format:%s\\n%b\", \"-s\", fixing_commit).splitlines()\n",
    "for line in show_data:\n",
    "    print(line)"
   ]
  },
  {
   "cell_type": "code",
   "execution_count": 266,
   "metadata": {},
   "outputs": [
    {
     "name": "stdout",
     "output_type": "stream",
     "text": [
      "2\n"
     ]
    }
   ],
   "source": [
    "#Gets how many files were affected in the fixing commit\n",
    "diff_data = repo.commit(fixing_commit).diff(fixing_commit + \"^\")\n",
    "print(len(diff_data))"
   ]
  },
  {
   "cell_type": "code",
   "execution_count": 267,
   "metadata": {},
   "outputs": [
    {
     "name": "stdout",
     "output_type": "stream",
     "text": [
      "2\n"
     ]
    }
   ],
   "source": [
    "#Gets how many directories were affected in the fixing commit\n",
    "diff_data = repo.git.show(\"--pretty=format:\", \"--dirstat=files\", fixing_commit).splitlines()\n",
    "print(len(diff_data))"
   ]
  },
  {
   "cell_type": "code",
   "execution_count": 268,
   "metadata": {},
   "outputs": [
    {
     "name": "stdout",
     "output_type": "stream",
     "text": [
      "2\n"
     ]
    }
   ],
   "source": [
    "#Gets how many lines were deleted\n",
    "stats = repo.git.show(\"--pretty=format:\", \"--numstat\", fixing_commit).splitlines()\n",
    "deleted = 0\n",
    "for line in stats:\n",
    "    deleted += int(line.split()[1]);\n",
    "print(deleted)"
   ]
  },
  {
   "cell_type": "code",
   "execution_count": 269,
   "metadata": {},
   "outputs": [
    {
     "name": "stdout",
     "output_type": "stream",
     "text": [
      "41\n"
     ]
    }
   ],
   "source": [
    "#Gets how many lines were added\n",
    "stats = repo.git.show(\"--pretty=format:\", \"--numstat\", fixing_commit).splitlines()\n",
    "added = 0\n",
    "for line in stats:\n",
    "    added += int(line.split()[0]);\n",
    "print(added)"
   ]
  },
  {
   "cell_type": "code",
   "execution_count": 271,
   "metadata": {},
   "outputs": [
    {
     "name": "stdout",
     "output_type": "stream",
     "text": [
      "2\n"
     ]
    }
   ],
   "source": [
    "#Gets how many lines were deleted expluding comments and blank lines\n",
    "diff_data = repo.git.diff(\"-U0\", \"--ignore-blank-lines\", fixing_commit+\"^\", fixing_commit).splitlines()\n",
    "deleted_lines = grep(diff_data, \"^\\-\")\n",
    "deleted_wo = 0\n",
    "for line in deleted_lines:\n",
    "    split = line.split()\n",
    "    if len(split) > 1 and not split[1].startswith(\"//\") and not split[0].startswith(\"---\"):\n",
    "        deleted_wo += 1\n",
    "print(deleted_wo)"
   ]
  },
  {
   "cell_type": "code",
   "execution_count": 272,
   "metadata": {},
   "outputs": [
    {
     "name": "stdout",
     "output_type": "stream",
     "text": [
      "41\n"
     ]
    }
   ],
   "source": [
    "#Gets how many lines were added expluding comments and blank lines\n",
    "diff_data = repo.git.diff(\"-U0\", \"--ignore-blank-lines\", fixing_commit+\"^\", fixing_commit).splitlines()\n",
    "added_lines = grep(diff_data, \"^\\+\")\n",
    "added_wo = 0\n",
    "for line in added_lines:\n",
    "    split = line.split()\n",
    "    if len(split) > 1 and not split[1].startswith(\"//\") and not split[0].startswith(\"+++\"):\n",
    "        added_wo += 1\n",
    "print(added_wo)"
   ]
  },
  {
   "cell_type": "code",
   "execution_count": 273,
   "metadata": {},
   "outputs": [
    {
     "name": "stdout",
     "output_type": "stream",
     "text": [
      "1 rt/rs/extensions/providers/src/main/java/org/apache/cxf/jaxrs/provider/atom/AbstractAtomProvider.java\n",
      "379 rt/rs/extensions/providers/src/test/java/org/apache/cxf/jaxrs/provider/atom/AtomPojoProviderTest.java\n"
     ]
    }
   ],
   "source": [
    "#Days since each file was last changed\n",
    "diff_data = repo.commit(fixing_commit).diff(fixing_commit + \"^\")\n",
    "for file in diff_data:\n",
    "    commits = repo.git.log(\"--pretty=format:%ct\", fixing_commit, \"--\", file.b_path).splitlines()\n",
    "    print(str(math.ceil(int(commits[0])/86400 - int(commits[1])/86400)) + \" \" + file.b_path)"
   ]
  },
  {
   "cell_type": "code",
   "execution_count": 274,
   "metadata": {},
   "outputs": [
    {
     "name": "stdout",
     "output_type": "stream",
     "text": [
      "13 rt/rs/extensions/providers/src/main/java/org/apache/cxf/jaxrs/provider/atom/AbstractAtomProvider.java\n",
      "11 rt/rs/extensions/providers/src/test/java/org/apache/cxf/jaxrs/provider/atom/AtomPojoProviderTest.java\n"
     ]
    }
   ],
   "source": [
    "#Number of times each file has been previously changed (following renames)\n",
    "diff_data = repo.commit(fixing_commit).diff(fixing_commit + \"^\")\n",
    "for file in diff_data:\n",
    "    commits = repo.git.log(\"--follow\", \"--pretty=format:%ct\", fixing_commit+\"^\", \"--\", file.b_path).splitlines()\n",
    "    print(str(len(commits)) + \" \" + file.b_path)"
   ]
  },
  {
   "cell_type": "code",
   "execution_count": 275,
   "metadata": {},
   "outputs": [
    {
     "name": "stdout",
     "output_type": "stream",
     "text": [
      "rt/rs/extensions/providers/src/main/java/org/apache/cxf/jaxrs/provider/atom/AbstractAtomProvider.java:\n",
      "Colm O hEigeartaigh\n",
      "Sergey Beryozkin\n",
      "rt/rs/extensions/providers/src/test/java/org/apache/cxf/jaxrs/provider/atom/AtomPojoProviderTest.java:\n",
      "Sergey Beryozkin\n",
      "Colm O hEigeartaigh\n",
      "Daniel Kulp\n"
     ]
    }
   ],
   "source": [
    "#List of authors who have modified each file\n",
    "diff_data = repo.commit(fixing_commit).diff(fixing_commit + \"^\")\n",
    "for file in diff_data:\n",
    "    print(file.b_path + \":\")\n",
    "    authors = repo.git.log(\"--pretty=format:%cn\", \"-s\", file.b_path).splitlines()\n",
    "    authors = set(authors)\n",
    "    for author in authors:\n",
    "        print(author)"
   ]
  },
  {
   "cell_type": "code",
   "execution_count": 276,
   "metadata": {},
   "outputs": [
    {
     "name": "stdout",
     "output_type": "stream",
     "text": [
      "Daniel Kulp: 46716\n",
      "Sergey Beryozkin: 43449\n",
      "Colm O hEigeartaigh: 18039\n"
     ]
    }
   ],
   "source": [
    "tuples = []\n",
    "for author in authors:\n",
    "    log = repo.git.log(\"--pretty=format:%h\", \"--author=\" + author)\n",
    "    tuples.append((len(log), author))\n",
    "tuples.sort(key=lambda x: x[0], reverse=True)\n",
    "for tuple in tuples:\n",
    "    print(tuple[1] + \": \" + str(tuple[0]))"
   ]
  }
 ],
 "metadata": {
  "kernelspec": {
   "display_name": "Python 3",
   "language": "python",
   "name": "python3"
  },
  "language_info": {
   "codemirror_mode": {
    "name": "ipython",
    "version": 3
   },
   "file_extension": ".py",
   "mimetype": "text/x-python",
   "name": "python",
   "nbconvert_exporter": "python",
   "pygments_lexer": "ipython3",
   "version": "3.6.8"
  }
 },
 "nbformat": 4,
 "nbformat_minor": 2
}
